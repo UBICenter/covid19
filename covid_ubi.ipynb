{
 "cells": [
  {
   "cell_type": "markdown",
   "metadata": {},
   "source": [
    "# Effect of UBI on Supplemental Poverty Measure amid Covid-19 recession\n",
    "\n",
    "Simulate different resource reductions in response to a recession."
   ]
  },
  {
   "cell_type": "markdown",
   "metadata": {},
   "source": [
    "## Setup\n",
    "### Imports"
   ]
  },
  {
   "cell_type": "code",
   "execution_count": 1,
   "metadata": {},
   "outputs": [],
   "source": [
    "import pandas as pd\n",
    "import numpy as np\n",
    "import microdf as mdf\n",
    "import matplotlib.pyplot as plt\n",
    "import matplotlib as mpl\n",
    "import os"
   ]
  },
  {
   "cell_type": "markdown",
   "metadata": {},
   "source": [
    "### Other"
   ]
  },
  {
   "cell_type": "code",
   "execution_count": 2,
   "metadata": {},
   "outputs": [
    {
     "name": "stdout",
     "output_type": "stream",
     "text": [
      "--2020-03-17 14:06:15--  https://github.com/MaxGhenis/random/raw/master/Roboto-Regular.ttf\n",
      "Resolving github.com (github.com)... 140.82.113.4\n",
      "Connecting to github.com (github.com)|140.82.113.4|:443... connected.\n",
      "HTTP request sent, awaiting response... 302 Found\n",
      "Location: https://raw.githubusercontent.com/MaxGhenis/random/master/Roboto-Regular.ttf [following]\n",
      "--2020-03-17 14:06:16--  https://raw.githubusercontent.com/MaxGhenis/random/master/Roboto-Regular.ttf\n",
      "Resolving raw.githubusercontent.com (raw.githubusercontent.com)... 151.101.196.133\n",
      "Connecting to raw.githubusercontent.com (raw.githubusercontent.com)|151.101.196.133|:443... connected.\n",
      "HTTP request sent, awaiting response... 200 OK\n",
      "Length: 145348 (142K) [application/octet-stream]\n",
      "Saving to: ‘Roboto-Regular.ttf.1’\n",
      "\n",
      "Roboto-Regular.ttf. 100%[===================>] 141.94K  --.-KB/s    in 0.05s   \n",
      "\n",
      "2020-03-17 14:06:16 (2.97 MB/s) - ‘Roboto-Regular.ttf.1’ saved [145348/145348]\n",
      "\n"
     ]
    }
   ],
   "source": [
    "!wget https://github.com/MaxGhenis/random/raw/master/Roboto-Regular.ttf\n",
    "mdf.set_plot_style()"
   ]
  },
  {
   "cell_type": "markdown",
   "metadata": {},
   "source": [
    "### Load data\n",
    "\n",
    "Looks for the 2019 March Supplement in a `~/data` folder."
   ]
  },
  {
   "cell_type": "code",
   "execution_count": 3,
   "metadata": {},
   "outputs": [],
   "source": [
    "ASEC_F = '~/data/asec/2019/pppub19.csv'"
   ]
  },
  {
   "cell_type": "markdown",
   "metadata": {},
   "source": [
    "Otherwise download from https://www.census.gov/data/datasets/time-series/demo/cps/cps-asec.html."
   ]
  },
  {
   "cell_type": "code",
   "execution_count": 4,
   "metadata": {},
   "outputs": [],
   "source": [
    "if not os.path.isfile(os.path.expanduser(ASEC_F)):\n",
    "    !mkdir ~/data\n",
    "    !wget -O ~/data/asecpub19csv.zip http://thedataweb.rm.census.gov/pub/cps/march/asecpub19csv.zip\n",
    "    !unzip ~/data/asecpub19csv.zip -d ~/data"
   ]
  },
  {
   "cell_type": "code",
   "execution_count": 5,
   "metadata": {},
   "outputs": [],
   "source": [
    "SPM_COLS = ['povthreshold', 'resources', 'poor', 'numper', 'numkids',\n",
    "            'numadults', 'id', 'weight']\n",
    "OTHER_COLS = ['A_AGE', 'MARSUPWT', 'PRCITSHP']\n",
    "cols = ['SPM_' + i.upper() for i in SPM_COLS] + OTHER_COLS"
   ]
  },
  {
   "cell_type": "code",
   "execution_count": 6,
   "metadata": {},
   "outputs": [],
   "source": [
    "raw = pd.read_csv(ASEC_F, usecols=cols)"
   ]
  },
  {
   "cell_type": "markdown",
   "metadata": {},
   "source": [
    "## Preprocess"
   ]
  },
  {
   "cell_type": "code",
   "execution_count": 7,
   "metadata": {},
   "outputs": [],
   "source": [
    "df = raw.copy(deep=True)"
   ]
  },
  {
   "cell_type": "code",
   "execution_count": 8,
   "metadata": {},
   "outputs": [],
   "source": [
    "df.columns = map(str.lower, df.columns)"
   ]
  },
  {
   "cell_type": "markdown",
   "metadata": {},
   "source": [
    "Add true weight by dividing by 100."
   ]
  },
  {
   "cell_type": "code",
   "execution_count": 9,
   "metadata": {},
   "outputs": [],
   "source": [
    "df['w'] = df.marsupwt / 100.\n",
    "df['spm_w'] = df.spm_weight / 100."
   ]
  },
  {
   "cell_type": "markdown",
   "metadata": {},
   "source": [
    "Add citizenship indicator, per https://www2.census.gov/programs-surveys/cps/techdocs/cpsmar19.pdf."
   ]
  },
  {
   "cell_type": "code",
   "execution_count": 10,
   "metadata": {},
   "outputs": [],
   "source": [
    "df['is_citizen'] = df.prcitshp != 5"
   ]
  },
  {
   "cell_type": "code",
   "execution_count": 11,
   "metadata": {},
   "outputs": [],
   "source": [
    "df['is_kid'] = df.a_age < 18\n",
    "df['is_adult'] = df.a_age >= 18\n",
    "df['is_kid_citizen'] = df.is_citizen & df.is_kid\n",
    "df['is_adult_citizen'] = df.is_citizen & df.is_adult"
   ]
  },
  {
   "cell_type": "markdown",
   "metadata": {},
   "source": [
    "Number of citizens per SPM unit."
   ]
  },
  {
   "cell_type": "code",
   "execution_count": 12,
   "metadata": {},
   "outputs": [],
   "source": [
    "spmu = df.groupby('spm_id')[['is_kid', 'is_adult',\n",
    "                             'is_kid_citizen', 'is_adult_citizen']].sum()"
   ]
  },
  {
   "cell_type": "code",
   "execution_count": 13,
   "metadata": {},
   "outputs": [],
   "source": [
    "spmu.columns = ['spm_nu18', 'spm_n18',\n",
    "                'spm_numkidcitizens', 'spm_numadultcitizens']"
   ]
  },
  {
   "cell_type": "code",
   "execution_count": 14,
   "metadata": {},
   "outputs": [],
   "source": [
    "df = df.merge(spmu, on='spm_id')"
   ]
  },
  {
   "cell_type": "markdown",
   "metadata": {},
   "source": [
    "Merge in other SPM unit characteristics."
   ]
  },
  {
   "cell_type": "code",
   "execution_count": 15,
   "metadata": {},
   "outputs": [],
   "source": [
    "spmu_raw = df[['spm_resources', 'spm_povthreshold', 'spm_id',\n",
    "               'spm_w']].drop_duplicates()"
   ]
  },
  {
   "cell_type": "code",
   "execution_count": 16,
   "metadata": {},
   "outputs": [],
   "source": [
    "spmu = spmu.join(spmu_raw.set_index('spm_id'))"
   ]
  },
  {
   "cell_type": "code",
   "execution_count": 17,
   "metadata": {},
   "outputs": [
    {
     "data": {
      "text/html": [
       "<div>\n",
       "<style scoped>\n",
       "    .dataframe tbody tr th:only-of-type {\n",
       "        vertical-align: middle;\n",
       "    }\n",
       "\n",
       "    .dataframe tbody tr th {\n",
       "        vertical-align: top;\n",
       "    }\n",
       "\n",
       "    .dataframe thead th {\n",
       "        text-align: right;\n",
       "    }\n",
       "</style>\n",
       "<table border=\"1\" class=\"dataframe\">\n",
       "  <thead>\n",
       "    <tr style=\"text-align: right;\">\n",
       "      <th></th>\n",
       "      <th>spm_nu18</th>\n",
       "      <th>spm_n18</th>\n",
       "      <th>spm_numkidcitizens</th>\n",
       "      <th>spm_numadultcitizens</th>\n",
       "      <th>spm_resources</th>\n",
       "      <th>spm_povthreshold</th>\n",
       "      <th>spm_w</th>\n",
       "    </tr>\n",
       "    <tr>\n",
       "      <th>spm_id</th>\n",
       "      <th></th>\n",
       "      <th></th>\n",
       "      <th></th>\n",
       "      <th></th>\n",
       "      <th></th>\n",
       "      <th></th>\n",
       "      <th></th>\n",
       "    </tr>\n",
       "  </thead>\n",
       "  <tbody>\n",
       "    <tr>\n",
       "      <th>4001</th>\n",
       "      <td>0.0</td>\n",
       "      <td>1.0</td>\n",
       "      <td>0.0</td>\n",
       "      <td>1.0</td>\n",
       "      <td>12961</td>\n",
       "      <td>10080</td>\n",
       "      <td>2031.67</td>\n",
       "    </tr>\n",
       "    <tr>\n",
       "      <th>6001</th>\n",
       "      <td>0.0</td>\n",
       "      <td>1.0</td>\n",
       "      <td>0.0</td>\n",
       "      <td>1.0</td>\n",
       "      <td>13292</td>\n",
       "      <td>11483</td>\n",
       "      <td>1232.04</td>\n",
       "    </tr>\n",
       "    <tr>\n",
       "      <th>7001</th>\n",
       "      <td>0.0</td>\n",
       "      <td>1.0</td>\n",
       "      <td>0.0</td>\n",
       "      <td>1.0</td>\n",
       "      <td>10232</td>\n",
       "      <td>11483</td>\n",
       "      <td>1209.17</td>\n",
       "    </tr>\n",
       "    <tr>\n",
       "      <th>8001</th>\n",
       "      <td>0.0</td>\n",
       "      <td>2.0</td>\n",
       "      <td>0.0</td>\n",
       "      <td>2.0</td>\n",
       "      <td>20084</td>\n",
       "      <td>16190</td>\n",
       "      <td>1146.23</td>\n",
       "    </tr>\n",
       "    <tr>\n",
       "      <th>13001</th>\n",
       "      <td>0.0</td>\n",
       "      <td>1.0</td>\n",
       "      <td>0.0</td>\n",
       "      <td>1.0</td>\n",
       "      <td>21534</td>\n",
       "      <td>11546</td>\n",
       "      <td>1587.98</td>\n",
       "    </tr>\n",
       "    <tr>\n",
       "      <th>...</th>\n",
       "      <td>...</td>\n",
       "      <td>...</td>\n",
       "      <td>...</td>\n",
       "      <td>...</td>\n",
       "      <td>...</td>\n",
       "      <td>...</td>\n",
       "      <td>...</td>\n",
       "    </tr>\n",
       "    <tr>\n",
       "      <th>94629001</th>\n",
       "      <td>0.0</td>\n",
       "      <td>1.0</td>\n",
       "      <td>0.0</td>\n",
       "      <td>0.0</td>\n",
       "      <td>70975</td>\n",
       "      <td>17526</td>\n",
       "      <td>444.01</td>\n",
       "    </tr>\n",
       "    <tr>\n",
       "      <th>94630001</th>\n",
       "      <td>0.0</td>\n",
       "      <td>2.0</td>\n",
       "      <td>0.0</td>\n",
       "      <td>2.0</td>\n",
       "      <td>28273</td>\n",
       "      <td>20304</td>\n",
       "      <td>412.47</td>\n",
       "    </tr>\n",
       "    <tr>\n",
       "      <th>94631001</th>\n",
       "      <td>4.0</td>\n",
       "      <td>2.0</td>\n",
       "      <td>4.0</td>\n",
       "      <td>2.0</td>\n",
       "      <td>40796</td>\n",
       "      <td>46249</td>\n",
       "      <td>515.55</td>\n",
       "    </tr>\n",
       "    <tr>\n",
       "      <th>94632001</th>\n",
       "      <td>2.0</td>\n",
       "      <td>4.0</td>\n",
       "      <td>2.0</td>\n",
       "      <td>4.0</td>\n",
       "      <td>48348</td>\n",
       "      <td>54069</td>\n",
       "      <td>391.67</td>\n",
       "    </tr>\n",
       "    <tr>\n",
       "      <th>94633001</th>\n",
       "      <td>0.0</td>\n",
       "      <td>2.0</td>\n",
       "      <td>0.0</td>\n",
       "      <td>2.0</td>\n",
       "      <td>35551</td>\n",
       "      <td>24711</td>\n",
       "      <td>448.29</td>\n",
       "    </tr>\n",
       "  </tbody>\n",
       "</table>\n",
       "<p>71517 rows × 7 columns</p>\n",
       "</div>"
      ],
      "text/plain": [
       "          spm_nu18  spm_n18  spm_numkidcitizens  spm_numadultcitizens  \\\n",
       "spm_id                                                                  \n",
       "4001           0.0      1.0                 0.0                   1.0   \n",
       "6001           0.0      1.0                 0.0                   1.0   \n",
       "7001           0.0      1.0                 0.0                   1.0   \n",
       "8001           0.0      2.0                 0.0                   2.0   \n",
       "13001          0.0      1.0                 0.0                   1.0   \n",
       "...            ...      ...                 ...                   ...   \n",
       "94629001       0.0      1.0                 0.0                   0.0   \n",
       "94630001       0.0      2.0                 0.0                   2.0   \n",
       "94631001       4.0      2.0                 4.0                   2.0   \n",
       "94632001       2.0      4.0                 2.0                   4.0   \n",
       "94633001       0.0      2.0                 0.0                   2.0   \n",
       "\n",
       "          spm_resources  spm_povthreshold    spm_w  \n",
       "spm_id                                              \n",
       "4001              12961             10080  2031.67  \n",
       "6001              13292             11483  1232.04  \n",
       "7001              10232             11483  1209.17  \n",
       "8001              20084             16190  1146.23  \n",
       "13001             21534             11546  1587.98  \n",
       "...                 ...               ...      ...  \n",
       "94629001          70975             17526   444.01  \n",
       "94630001          28273             20304   412.47  \n",
       "94631001          40796             46249   515.55  \n",
       "94632001          48348             54069   391.67  \n",
       "94633001          35551             24711   448.29  \n",
       "\n",
       "[71517 rows x 7 columns]"
      ]
     },
     "execution_count": 17,
     "metadata": {},
     "output_type": "execute_result"
    }
   ],
   "source": [
    "spmu"
   ]
  },
  {
   "cell_type": "markdown",
   "metadata": {},
   "source": [
    "## Analysis"
   ]
  },
  {
   "cell_type": "markdown",
   "metadata": {},
   "source": [
    "Percent citizen."
   ]
  },
  {
   "cell_type": "code",
   "execution_count": 18,
   "metadata": {},
   "outputs": [
    {
     "data": {
      "text/plain": [
       "0.9274755680739586"
      ]
     },
     "execution_count": 18,
     "metadata": {},
     "output_type": "execute_result"
    }
   ],
   "source": [
    "mdf.weighted_mean(df, 'is_citizen', 'w')"
   ]
  },
  {
   "cell_type": "code",
   "execution_count": 19,
   "metadata": {},
   "outputs": [
    {
     "data": {
      "text/plain": [
       "0.9718902678491073"
      ]
     },
     "execution_count": 19,
     "metadata": {},
     "output_type": "execute_result"
    }
   ],
   "source": [
    "mdf.weighted_mean(df[df.a_age < 18], 'is_citizen', 'w')"
   ]
  },
  {
   "cell_type": "code",
   "execution_count": 20,
   "metadata": {},
   "outputs": [
    {
     "data": {
      "text/plain": [
       "0.9143950894716393"
      ]
     },
     "execution_count": 20,
     "metadata": {},
     "output_type": "execute_result"
    }
   ],
   "source": [
    "mdf.weighted_mean(df[df.a_age >= 18], 'is_citizen', 'w')"
   ]
  },
  {
   "cell_type": "code",
   "execution_count": 21,
   "metadata": {},
   "outputs": [],
   "source": [
    "def rounded_pct(x):\n",
    "    print(str((x * 100).round(1)) + '%')"
   ]
  },
  {
   "cell_type": "code",
   "execution_count": 22,
   "metadata": {},
   "outputs": [],
   "source": [
    "def print_pov(df, weight='w'):\n",
    "    rounded_pct(mdf.weighted_mean(df, 'spm_poor', weight))"
   ]
  },
  {
   "cell_type": "code",
   "execution_count": 23,
   "metadata": {},
   "outputs": [],
   "source": [
    "def ubi_pov_rate(resource_cut=0, ubi_adult=0, ubi_kid=0,\n",
    "                 ubi_adult_citizen=0, ubi_kid_citizen=0):\n",
    "    \"\"\" Calculate SPM poverty rate in billions, given a certain cut in\n",
    "        baselin resources and UBI amounts for each category.\n",
    "    \n",
    "    Args:\n",
    "        resource_cut: Percentage cut in baseline resource, between 0 and 1.\n",
    "        ubi_adult: UBI per adult.\n",
    "        ubi_kid: UBI per child.\n",
    "        ubi_adult_citizen: UBI per adult citizen.\n",
    "        ubi_kid_citizen: UBI per child citizen.\n",
    "    \n",
    "    Returns:\n",
    "        Poverty rate (between 0 and 1).\n",
    "    \"\"\"\n",
    "    resources = (\n",
    "        df.spm_resources * (1 - resource_cut) + \n",
    "        ubi_adult * df.spm_n18 +\n",
    "        ubi_kid * df.spm_nu18 +\n",
    "        ubi_adult_citizen * df.spm_numadultcitizens +\n",
    "        ubi_kid_citizen * df.spm_numkidcitizens)\n",
    "    is_pov = resources < df.spm_povthreshold\n",
    "    return (is_pov * df.w).sum() / df.w.sum()"
   ]
  },
  {
   "cell_type": "markdown",
   "metadata": {},
   "source": [
    "**TODO** This doesn't match the SPM unit poverty gap.\n",
    "\n",
    "https://gist.github.com/MaxGhenis/1db39c777493b5bc9279c0550c247006"
   ]
  },
  {
   "cell_type": "code",
   "execution_count": 24,
   "metadata": {},
   "outputs": [],
   "source": [
    "def ubi_pov_gap_b(resource_cut=0, ubi_adult=0, ubi_kid=0,\n",
    "                  ubi_adult_citizen=0, ubi_kid_citizen=0):\n",
    "    \"\"\" Calculate SPM poverty gap in billions, given a certain cut in baseline\n",
    "        resources and UBI amounts for each category.\n",
    "    \n",
    "    Args:\n",
    "        resource_cut: Percentage cut in baseline resource, between 0 and 1.\n",
    "        ubi_adult: UBI per adult.\n",
    "        ubi_kid: UBI per child.\n",
    "        ubi_adult_citizen: UBI per adult citizen.\n",
    "        ubi_kid_citizen: UBI per child citizen.\n",
    "    \n",
    "    Returns:\n",
    "        Poverty gap in billions.\n",
    "    \"\"\"\n",
    "    # Use spmu dataset.\n",
    "    resources = (\n",
    "        spmu.spm_resources * (1 - resource_cut) + \n",
    "        ubi_adult * spmu.spm_n18 +\n",
    "        ubi_kid * spmu.spm_nu18 +\n",
    "        ubi_adult_citizen * spmu.spm_numadultcitizens +\n",
    "        ubi_kid_citizen * spmu.spm_numkidcitizens)\n",
    "    pov_gap = np.maximum(spmu.spm_povthreshold - resources, 0)\n",
    "    return (pov_gap * spmu.spm_w).sum() / 1e9"
   ]
  },
  {
   "cell_type": "code",
   "execution_count": 25,
   "metadata": {},
   "outputs": [],
   "source": [
    "def ubi_pov_gap_pp(resource_cut=0, ubi_adult=0, ubi_kid=0,\n",
    "                   ubi_adult_citizen=0, ubi_kid_citizen=0):\n",
    "    \"\"\" Calculate SPM per-person poverty gap, given a certain cut in baseline\n",
    "        resources and UBI amounts for each category.\n",
    "    \n",
    "    Args:\n",
    "        resource_cut: Percentage cut in baseline resource, between 0 and 1.\n",
    "        ubi_adult: UBI per adult.\n",
    "        ubi_kid: UBI per child.\n",
    "        ubi_adult_citizen: UBI per adult citizen.\n",
    "        ubi_kid_citizen: UBI per child citizen.\n",
    "    \n",
    "    Returns:\n",
    "        Poverty gap divided by total population.\n",
    "    \"\"\"\n",
    "    return (1e9 * ubi_pov_gap_b(resource_cut, ubi_adult, ubi_kid,\n",
    "                                ubi_adult_citizen, ubi_kid_citizen) / \n",
    "            df.w.sum())"
   ]
  },
  {
   "cell_type": "code",
   "execution_count": 26,
   "metadata": {},
   "outputs": [],
   "source": [
    "def ubi_pov_gap_per_pov(resource_cut=0, ubi_adult=0, ubi_kid=0,\n",
    "                        ubi_adult_citizen=0, ubi_kid_citizen=0):\n",
    "    \"\"\" Calculate SPM per-person-in-poverty poverty gap, given a certain cut\n",
    "        in baseline resources and UBI amounts for each category.\n",
    "    \n",
    "    Args:\n",
    "        resource_cut: Percentage cut in baseline resource, between 0 and 1.\n",
    "        ubi_adult: UBI per adult.\n",
    "        ubi_kid: UBI per child.\n",
    "        ubi_adult_citizen: UBI per adult citizen.\n",
    "        ubi_kid_citizen: UBI per child citizen.\n",
    "    \n",
    "    Returns:\n",
    "        Poverty gap divided by total population in poverty.\n",
    "    \"\"\"\n",
    "    return (ubi_pov_gap_pp(resource_cut, ubi_adult, ubi_kid,\n",
    "                           ubi_adult_citizen, ubi_kid_citizen) / \n",
    "            ubi_pov_rate(resource_cut, ubi_adult, ubi_kid,\n",
    "                         ubi_adult_citizen, ubi_kid_citizen))"
   ]
  },
  {
   "cell_type": "code",
   "execution_count": 27,
   "metadata": {},
   "outputs": [],
   "source": [
    "def ubi_cost_b(ubi_adult=0, ubi_kid=0,\n",
    "               ubi_adult_citizen=0, ubi_kid_citizen=0):\n",
    "    ubi_adult_cost = (ubi_adult * df.is_adult * df.w).sum()\n",
    "    ubi_kid_cost = (ubi_kid * df.is_kid * df.w).sum()\n",
    "    ubi_adult_citizen_cost = (\n",
    "        ubi_adult_citizen * df.is_adult_citizen * df.w).sum()\n",
    "    ubi_kid_citizen_cost = (ubi_kid_citizen * df.is_kid_citizen * df.w).sum()\n",
    "    return (ubi_adult_cost + ubi_kid_cost +\n",
    "            ubi_adult_citizen_cost + ubi_kid_citizen_cost) / 1e9"
   ]
  },
  {
   "cell_type": "markdown",
   "metadata": {},
   "source": [
    "## Baseline"
   ]
  },
  {
   "cell_type": "code",
   "execution_count": 28,
   "metadata": {},
   "outputs": [
    {
     "name": "stdout",
     "output_type": "stream",
     "text": [
      "12.7%\n"
     ]
    }
   ],
   "source": [
    "print_pov(df)"
   ]
  },
  {
   "cell_type": "code",
   "execution_count": 29,
   "metadata": {},
   "outputs": [
    {
     "name": "stdout",
     "output_type": "stream",
     "text": [
      "11.9%\n"
     ]
    }
   ],
   "source": [
    "print_pov(df[df.is_citizen])"
   ]
  },
  {
   "cell_type": "code",
   "execution_count": 30,
   "metadata": {},
   "outputs": [
    {
     "name": "stdout",
     "output_type": "stream",
     "text": [
      "23.7%\n"
     ]
    }
   ],
   "source": [
    "print_pov(df[~df.is_citizen])"
   ]
  },
  {
   "cell_type": "code",
   "execution_count": 31,
   "metadata": {},
   "outputs": [
    {
     "name": "stdout",
     "output_type": "stream",
     "text": [
      "12.5%\n"
     ]
    }
   ],
   "source": [
    "print_pov(df[df.is_adult])"
   ]
  },
  {
   "cell_type": "code",
   "execution_count": 32,
   "metadata": {},
   "outputs": [
    {
     "name": "stdout",
     "output_type": "stream",
     "text": [
      "13.6%\n"
     ]
    }
   ],
   "source": [
    "print_pov(df[df.is_kid])"
   ]
  },
  {
   "cell_type": "code",
   "execution_count": 33,
   "metadata": {},
   "outputs": [
    {
     "data": {
      "text/plain": [
       "169.98995792551003"
      ]
     },
     "execution_count": 33,
     "metadata": {},
     "output_type": "execute_result"
    }
   ],
   "source": [
    "ubi_pov_gap_b()"
   ]
  },
  {
   "cell_type": "code",
   "execution_count": 34,
   "metadata": {},
   "outputs": [
    {
     "data": {
      "text/plain": [
       "524.0847744869411"
      ]
     },
     "execution_count": 34,
     "metadata": {},
     "output_type": "execute_result"
    }
   ],
   "source": [
    "ubi_pov_gap_pp()"
   ]
  },
  {
   "cell_type": "code",
   "execution_count": 35,
   "metadata": {},
   "outputs": [
    {
     "data": {
      "text/plain": [
       "4115.75580934004"
      ]
     },
     "execution_count": 35,
     "metadata": {},
     "output_type": "execute_result"
    }
   ],
   "source": [
    "ubi_pov_gap_per_pov()"
   ]
  },
  {
   "cell_type": "markdown",
   "metadata": {},
   "source": [
    "## Resource cut, no UBI\n",
    "\n",
    "Simulate for each percentage point cut between 0 and 10."
   ]
  },
  {
   "cell_type": "code",
   "execution_count": 36,
   "metadata": {},
   "outputs": [],
   "source": [
    "CUTS = np.arange(11) / 100"
   ]
  },
  {
   "cell_type": "code",
   "execution_count": 37,
   "metadata": {},
   "outputs": [],
   "source": [
    "POP_M = 327.2"
   ]
  },
  {
   "cell_type": "code",
   "execution_count": 38,
   "metadata": {},
   "outputs": [],
   "source": [
    "cuts = pd.DataFrame(index=CUTS)\n",
    "cuts['pov_rate'] = cuts.index.map(lambda x: ubi_pov_rate(resource_cut=x))\n",
    "cuts['pov_gap_b'] = cuts.index.map(lambda x: ubi_pov_gap_b(resource_cut=x))\n",
    "cuts['pov_m'] = cuts.pov_rate * POP_M"
   ]
  },
  {
   "cell_type": "code",
   "execution_count": 39,
   "metadata": {},
   "outputs": [
    {
     "data": {
      "text/html": [
       "<div>\n",
       "<style scoped>\n",
       "    .dataframe tbody tr th:only-of-type {\n",
       "        vertical-align: middle;\n",
       "    }\n",
       "\n",
       "    .dataframe tbody tr th {\n",
       "        vertical-align: top;\n",
       "    }\n",
       "\n",
       "    .dataframe thead th {\n",
       "        text-align: right;\n",
       "    }\n",
       "</style>\n",
       "<table border=\"1\" class=\"dataframe\">\n",
       "  <thead>\n",
       "    <tr style=\"text-align: right;\">\n",
       "      <th></th>\n",
       "      <th>pov_rate</th>\n",
       "      <th>pov_gap_b</th>\n",
       "      <th>pov_m</th>\n",
       "    </tr>\n",
       "  </thead>\n",
       "  <tbody>\n",
       "    <tr>\n",
       "      <th>0.00</th>\n",
       "      <td>0.127336</td>\n",
       "      <td>169.989958</td>\n",
       "      <td>41.664410</td>\n",
       "    </tr>\n",
       "    <tr>\n",
       "      <th>0.01</th>\n",
       "      <td>0.130368</td>\n",
       "      <td>172.048194</td>\n",
       "      <td>42.656338</td>\n",
       "    </tr>\n",
       "    <tr>\n",
       "      <th>0.02</th>\n",
       "      <td>0.133005</td>\n",
       "      <td>174.184895</td>\n",
       "      <td>43.519106</td>\n",
       "    </tr>\n",
       "    <tr>\n",
       "      <th>0.03</th>\n",
       "      <td>0.136044</td>\n",
       "      <td>176.399871</td>\n",
       "      <td>44.513513</td>\n",
       "    </tr>\n",
       "    <tr>\n",
       "      <th>0.04</th>\n",
       "      <td>0.138870</td>\n",
       "      <td>178.695124</td>\n",
       "      <td>45.438231</td>\n",
       "    </tr>\n",
       "    <tr>\n",
       "      <th>0.05</th>\n",
       "      <td>0.142090</td>\n",
       "      <td>181.080439</td>\n",
       "      <td>46.491921</td>\n",
       "    </tr>\n",
       "    <tr>\n",
       "      <th>0.06</th>\n",
       "      <td>0.145322</td>\n",
       "      <td>183.553945</td>\n",
       "      <td>47.549216</td>\n",
       "    </tr>\n",
       "    <tr>\n",
       "      <th>0.07</th>\n",
       "      <td>0.148721</td>\n",
       "      <td>186.132003</td>\n",
       "      <td>48.661595</td>\n",
       "    </tr>\n",
       "    <tr>\n",
       "      <th>0.08</th>\n",
       "      <td>0.152685</td>\n",
       "      <td>188.824903</td>\n",
       "      <td>49.958619</td>\n",
       "    </tr>\n",
       "    <tr>\n",
       "      <th>0.09</th>\n",
       "      <td>0.155851</td>\n",
       "      <td>191.625085</td>\n",
       "      <td>50.994585</td>\n",
       "    </tr>\n",
       "    <tr>\n",
       "      <th>0.10</th>\n",
       "      <td>0.159426</td>\n",
       "      <td>194.530486</td>\n",
       "      <td>52.164289</td>\n",
       "    </tr>\n",
       "  </tbody>\n",
       "</table>\n",
       "</div>"
      ],
      "text/plain": [
       "      pov_rate   pov_gap_b      pov_m\n",
       "0.00  0.127336  169.989958  41.664410\n",
       "0.01  0.130368  172.048194  42.656338\n",
       "0.02  0.133005  174.184895  43.519106\n",
       "0.03  0.136044  176.399871  44.513513\n",
       "0.04  0.138870  178.695124  45.438231\n",
       "0.05  0.142090  181.080439  46.491921\n",
       "0.06  0.145322  183.553945  47.549216\n",
       "0.07  0.148721  186.132003  48.661595\n",
       "0.08  0.152685  188.824903  49.958619\n",
       "0.09  0.155851  191.625085  50.994585\n",
       "0.10  0.159426  194.530486  52.164289"
      ]
     },
     "execution_count": 39,
     "metadata": {},
     "output_type": "execute_result"
    }
   ],
   "source": [
    "cuts"
   ]
  },
  {
   "cell_type": "code",
   "execution_count": 54,
   "metadata": {},
   "outputs": [
    {
     "data": {
      "image/png": "[encoded data removed]",
      "text/plain": [
       "<Figure size 1280x960 with 1 Axes>"
      ]
     },
     "metadata": {},
     "output_type": "display_data"
    }
   ],
   "source": [
    "ax = cuts.pov_rate.plot()\n",
    "plt.title('How the poverty rate rises with income lost', loc='left')\n",
    "ax.xaxis.set_major_formatter(mpl.ticker.PercentFormatter(xmax=1, decimals=0))\n",
    "ax.yaxis.set_major_formatter(mpl.ticker.PercentFormatter(xmax=1, decimals=1))\n",
    "plt.xlabel('Fall in SPM resources')\n",
    "plt.ylabel('SPM poverty rate')\n",
    "plt.show()"
   ]
  },
  {
   "cell_type": "code",
   "execution_count": 53,
   "metadata": {},
   "outputs": [
    {
     "data": {
      "image/png": "[encoded data removed]",
      "text/plain": [
       "<Figure size 1280x960 with 1 Axes>"
      ]
     },
     "metadata": {},
     "output_type": "display_data"
    }
   ],
   "source": [
    "ax = cuts.pov_gap_b.plot()\n",
    "plt.title('How the poverty gap rises with income lost', loc='left')\n",
    "ax.xaxis.set_major_formatter(mpl.ticker.PercentFormatter(xmax=1, decimals=0))\n",
    "ax.yaxis.set_major_formatter(mdf.dollar_format())\n",
    "plt.xlabel('Fall in SPM resources')\n",
    "plt.ylabel('SPM poverty gap (billions)')\n",
    "plt.show()"
   ]
  },
  {
   "cell_type": "markdown",
   "metadata": {},
   "source": [
    "Compared to baseline."
   ]
  },
  {
   "cell_type": "code",
   "execution_count": 42,
   "metadata": {},
   "outputs": [
    {
     "data": {
      "text/html": [
       "<div>\n",
       "<style scoped>\n",
       "    .dataframe tbody tr th:only-of-type {\n",
       "        vertical-align: middle;\n",
       "    }\n",
       "\n",
       "    .dataframe tbody tr th {\n",
       "        vertical-align: top;\n",
       "    }\n",
       "\n",
       "    .dataframe thead th {\n",
       "        text-align: right;\n",
       "    }\n",
       "</style>\n",
       "<table border=\"1\" class=\"dataframe\">\n",
       "  <thead>\n",
       "    <tr style=\"text-align: right;\">\n",
       "      <th></th>\n",
       "      <th>pov_rate</th>\n",
       "      <th>pov_gap_b</th>\n",
       "      <th>pov_m</th>\n",
       "    </tr>\n",
       "  </thead>\n",
       "  <tbody>\n",
       "    <tr>\n",
       "      <th>0.00</th>\n",
       "      <td>0.000000</td>\n",
       "      <td>0.000000</td>\n",
       "      <td>0.000000</td>\n",
       "    </tr>\n",
       "    <tr>\n",
       "      <th>0.01</th>\n",
       "      <td>0.003032</td>\n",
       "      <td>2.058236</td>\n",
       "      <td>0.991927</td>\n",
       "    </tr>\n",
       "    <tr>\n",
       "      <th>0.02</th>\n",
       "      <td>0.005668</td>\n",
       "      <td>4.194937</td>\n",
       "      <td>1.854696</td>\n",
       "    </tr>\n",
       "    <tr>\n",
       "      <th>0.03</th>\n",
       "      <td>0.008708</td>\n",
       "      <td>6.409913</td>\n",
       "      <td>2.849103</td>\n",
       "    </tr>\n",
       "    <tr>\n",
       "      <th>0.04</th>\n",
       "      <td>0.011534</td>\n",
       "      <td>8.705166</td>\n",
       "      <td>3.773821</td>\n",
       "    </tr>\n",
       "    <tr>\n",
       "      <th>0.05</th>\n",
       "      <td>0.014754</td>\n",
       "      <td>11.090481</td>\n",
       "      <td>4.827511</td>\n",
       "    </tr>\n",
       "    <tr>\n",
       "      <th>0.06</th>\n",
       "      <td>0.017985</td>\n",
       "      <td>13.563987</td>\n",
       "      <td>5.884806</td>\n",
       "    </tr>\n",
       "    <tr>\n",
       "      <th>0.07</th>\n",
       "      <td>0.021385</td>\n",
       "      <td>16.142045</td>\n",
       "      <td>6.997185</td>\n",
       "    </tr>\n",
       "    <tr>\n",
       "      <th>0.08</th>\n",
       "      <td>0.025349</td>\n",
       "      <td>18.834945</td>\n",
       "      <td>8.294208</td>\n",
       "    </tr>\n",
       "    <tr>\n",
       "      <th>0.09</th>\n",
       "      <td>0.028515</td>\n",
       "      <td>21.635127</td>\n",
       "      <td>9.330175</td>\n",
       "    </tr>\n",
       "    <tr>\n",
       "      <th>0.10</th>\n",
       "      <td>0.032090</td>\n",
       "      <td>24.540528</td>\n",
       "      <td>10.499878</td>\n",
       "    </tr>\n",
       "  </tbody>\n",
       "</table>\n",
       "</div>"
      ],
      "text/plain": [
       "      pov_rate  pov_gap_b      pov_m\n",
       "0.00  0.000000   0.000000   0.000000\n",
       "0.01  0.003032   2.058236   0.991927\n",
       "0.02  0.005668   4.194937   1.854696\n",
       "0.03  0.008708   6.409913   2.849103\n",
       "0.04  0.011534   8.705166   3.773821\n",
       "0.05  0.014754  11.090481   4.827511\n",
       "0.06  0.017985  13.563987   5.884806\n",
       "0.07  0.021385  16.142045   6.997185\n",
       "0.08  0.025349  18.834945   8.294208\n",
       "0.09  0.028515  21.635127   9.330175\n",
       "0.10  0.032090  24.540528  10.499878"
      ]
     },
     "execution_count": 42,
     "metadata": {},
     "output_type": "execute_result"
    }
   ],
   "source": [
    "cuts - cuts.iloc[0]"
   ]
  },
  {
   "cell_type": "code",
   "execution_count": 43,
   "metadata": {},
   "outputs": [
    {
     "data": {
      "text/html": [
       "<div>\n",
       "<style scoped>\n",
       "    .dataframe tbody tr th:only-of-type {\n",
       "        vertical-align: middle;\n",
       "    }\n",
       "\n",
       "    .dataframe tbody tr th {\n",
       "        vertical-align: top;\n",
       "    }\n",
       "\n",
       "    .dataframe thead th {\n",
       "        text-align: right;\n",
       "    }\n",
       "</style>\n",
       "<table border=\"1\" class=\"dataframe\">\n",
       "  <thead>\n",
       "    <tr style=\"text-align: right;\">\n",
       "      <th></th>\n",
       "      <th>pov_rate</th>\n",
       "      <th>pov_gap_b</th>\n",
       "      <th>pov_m</th>\n",
       "    </tr>\n",
       "  </thead>\n",
       "  <tbody>\n",
       "    <tr>\n",
       "      <th>0.00</th>\n",
       "      <td>1.000000</td>\n",
       "      <td>1.000000</td>\n",
       "      <td>1.000000</td>\n",
       "    </tr>\n",
       "    <tr>\n",
       "      <th>0.01</th>\n",
       "      <td>1.023808</td>\n",
       "      <td>1.012108</td>\n",
       "      <td>1.023808</td>\n",
       "    </tr>\n",
       "    <tr>\n",
       "      <th>0.02</th>\n",
       "      <td>1.044515</td>\n",
       "      <td>1.024678</td>\n",
       "      <td>1.044515</td>\n",
       "    </tr>\n",
       "    <tr>\n",
       "      <th>0.03</th>\n",
       "      <td>1.068382</td>\n",
       "      <td>1.037708</td>\n",
       "      <td>1.068382</td>\n",
       "    </tr>\n",
       "    <tr>\n",
       "      <th>0.04</th>\n",
       "      <td>1.090577</td>\n",
       "      <td>1.051210</td>\n",
       "      <td>1.090577</td>\n",
       "    </tr>\n",
       "    <tr>\n",
       "      <th>0.05</th>\n",
       "      <td>1.115867</td>\n",
       "      <td>1.065242</td>\n",
       "      <td>1.115867</td>\n",
       "    </tr>\n",
       "    <tr>\n",
       "      <th>0.06</th>\n",
       "      <td>1.141243</td>\n",
       "      <td>1.079793</td>\n",
       "      <td>1.141243</td>\n",
       "    </tr>\n",
       "    <tr>\n",
       "      <th>0.07</th>\n",
       "      <td>1.167942</td>\n",
       "      <td>1.094959</td>\n",
       "      <td>1.167942</td>\n",
       "    </tr>\n",
       "    <tr>\n",
       "      <th>0.08</th>\n",
       "      <td>1.199072</td>\n",
       "      <td>1.110800</td>\n",
       "      <td>1.199072</td>\n",
       "    </tr>\n",
       "    <tr>\n",
       "      <th>0.09</th>\n",
       "      <td>1.223936</td>\n",
       "      <td>1.127273</td>\n",
       "      <td>1.223936</td>\n",
       "    </tr>\n",
       "    <tr>\n",
       "      <th>0.10</th>\n",
       "      <td>1.252011</td>\n",
       "      <td>1.144365</td>\n",
       "      <td>1.252011</td>\n",
       "    </tr>\n",
       "  </tbody>\n",
       "</table>\n",
       "</div>"
      ],
      "text/plain": [
       "      pov_rate  pov_gap_b     pov_m\n",
       "0.00  1.000000   1.000000  1.000000\n",
       "0.01  1.023808   1.012108  1.023808\n",
       "0.02  1.044515   1.024678  1.044515\n",
       "0.03  1.068382   1.037708  1.068382\n",
       "0.04  1.090577   1.051210  1.090577\n",
       "0.05  1.115867   1.065242  1.115867\n",
       "0.06  1.141243   1.079793  1.141243\n",
       "0.07  1.167942   1.094959  1.167942\n",
       "0.08  1.199072   1.110800  1.199072\n",
       "0.09  1.223936   1.127273  1.223936\n",
       "0.10  1.252011   1.144365  1.252011"
      ]
     },
     "execution_count": 43,
     "metadata": {},
     "output_type": "execute_result"
    }
   ],
   "source": [
    "cuts / cuts.iloc[0]"
   ]
  },
  {
   "cell_type": "markdown",
   "metadata": {},
   "source": [
    "## With UBI\n",
    "\n",
    "### Single amount"
   ]
  },
  {
   "cell_type": "code",
   "execution_count": 44,
   "metadata": {},
   "outputs": [
    {
     "data": {
      "text/plain": [
       "209678.0"
      ]
     },
     "execution_count": 44,
     "metadata": {},
     "output_type": "execute_result"
    }
   ],
   "source": [
    "df.spm_numkidcitizens.sum()"
   ]
  },
  {
   "cell_type": "code",
   "execution_count": 45,
   "metadata": {},
   "outputs": [
    {
     "data": {
      "text/plain": [
       "Index(['prcitshp', 'a_age', 'marsupwt', 'spm_id', 'spm_numadults',\n",
       "       'spm_numkids', 'spm_numper', 'spm_poor', 'spm_povthreshold',\n",
       "       'spm_resources', 'spm_weight', 'w', 'spm_w', 'is_citizen', 'is_kid',\n",
       "       'is_adult', 'is_kid_citizen', 'is_adult_citizen', 'spm_nu18', 'spm_n18',\n",
       "       'spm_numkidcitizens', 'spm_numadultcitizens'],\n",
       "      dtype='object')"
      ]
     },
     "execution_count": 45,
     "metadata": {},
     "output_type": "execute_result"
    }
   ],
   "source": [
    "df.columns"
   ]
  },
  {
   "cell_type": "code",
   "execution_count": 46,
   "metadata": {},
   "outputs": [
    {
     "data": {
      "text/plain": [
       "0.037348301983918815"
      ]
     },
     "execution_count": 46,
     "metadata": {},
     "output_type": "execute_result"
    }
   ],
   "source": [
    "ubi_pov_rate(0, 0, 6000, 6000)"
   ]
  },
  {
   "cell_type": "code",
   "execution_count": 47,
   "metadata": {},
   "outputs": [
    {
     "ename": "NameError",
     "evalue": "name 'ubi_pov' is not defined",
     "output_type": "error",
     "traceback": [
      "\u001b[0;31m---------------------------------------------------------------------------\u001b[0m",
      "\u001b[0;31mNameError\u001b[0m                                 Traceback (most recent call last)",
      "\u001b[0;32m<ipython-input-47-7b87b95bf902>\u001b[0m in \u001b[0;36m<module>\u001b[0;34m\u001b[0m\n\u001b[0;32m----> 1\u001b[0;31m \u001b[0;36m1\u001b[0m \u001b[0;34m-\u001b[0m \u001b[0mubi_pov\u001b[0m\u001b[0;34m(\u001b[0m\u001b[0;36m6000\u001b[0m\u001b[0;34m,\u001b[0m \u001b[0;36m6000\u001b[0m\u001b[0;34m)\u001b[0m \u001b[0;34m/\u001b[0m \u001b[0mubi_pov\u001b[0m\u001b[0;34m(\u001b[0m\u001b[0;36m0\u001b[0m\u001b[0;34m,\u001b[0m \u001b[0;36m0\u001b[0m\u001b[0;34m)\u001b[0m\u001b[0;34m\u001b[0m\u001b[0;34m\u001b[0m\u001b[0m\n\u001b[0m",
      "\u001b[0;31mNameError\u001b[0m: name 'ubi_pov' is not defined"
     ]
    }
   ],
   "source": [
    "1 - ubi_pov(6000, 6000) / ubi_pov(0, 0)"
   ]
  },
  {
   "cell_type": "code",
   "execution_count": null,
   "metadata": {},
   "outputs": [],
   "source": [
    "ubi_pov(7800, 0)"
   ]
  },
  {
   "cell_type": "code",
   "execution_count": null,
   "metadata": {},
   "outputs": [],
   "source": [
    "1 - ubi_pov(7800, 0) / ubi_pov(0, 0)"
   ]
  },
  {
   "cell_type": "code",
   "execution_count": null,
   "metadata": {},
   "outputs": [],
   "source": [
    "ubi_cost(12000, 0) / 1e12"
   ]
  },
  {
   "cell_type": "markdown",
   "metadata": {},
   "source": [
    "## Miscellaneous"
   ]
  },
  {
   "cell_type": "code",
   "execution_count": null,
   "metadata": {},
   "outputs": [],
   "source": [
    "print_pov(df[df.is_citizen])"
   ]
  },
  {
   "cell_type": "code",
   "execution_count": null,
   "metadata": {},
   "outputs": [],
   "source": [
    "print_pov(df[~df.is_citizen])"
   ]
  }
 ],
 "metadata": {
  "kernelspec": {
   "display_name": "Python 3",
   "language": "python",
   "name": "python3"
  },
  "language_info": {
   "codemirror_mode": {
    "name": "ipython",
    "version": 3
   },
   "file_extension": ".py",
   "mimetype": "text/x-python",
   "name": "python",
   "nbconvert_exporter": "python",
   "pygments_lexer": "ipython3",
   "version": "3.7.5"
  },
  "toc": {
   "base_numbering": 1,
   "nav_menu": {},
   "number_sections": true,
   "sideBar": true,
   "skip_h1_title": false,
   "title_cell": "Table of Contents",
   "title_sidebar": "Contents",
   "toc_cell": false,
   "toc_position": {},
   "toc_section_display": true,
   "toc_window_display": false
  }
 },
 "nbformat": 4,
 "nbformat_minor": 2
}
