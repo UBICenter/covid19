{
 "cells": [
  {
   "cell_type": "markdown",
   "metadata": {},
   "source": [
    "# Unemployment insurance vs. UBI\n",
    "\n",
    "Compare the poverty and distributional impacts of giving \\$600 per unemployment insurance beneficiary--as proposed in the latest CARES Act--to using the same amount for a UBI.\n",
    "\n",
    "Data: 2018 ASEC\n",
    "\n",
    "## Setup"
   ]
  },
  {
   "cell_type": "code",
   "execution_count": 1,
   "metadata": {},
   "outputs": [],
   "source": [
    "import pandas as pd\n",
    "import numpy as np\n",
    "import microdf as mdf\n",
    "import matplotlib.pyplot as plt\n",
    "import matplotlib as mpl\n",
    "import os"
   ]
  },
  {
   "cell_type": "markdown",
   "metadata": {},
   "source": [
    "## Load data"
   ]
  },
  {
   "cell_type": "code",
   "execution_count": 2,
   "metadata": {},
   "outputs": [],
   "source": [
    "ASEC_F = '~/data/asec/2019/pppub19.csv'\n",
    "\n",
    "SPM_COLS = ['povthreshold', 'resources', 'poor', 'numper', 'numkids',\n",
    "            'numadults', 'id', 'weight']\n",
    "OTHER_COLS = ['A_AGE', 'MARSUPWT', 'UC_VAL']\n",
    "cols = ['SPM_' + i.upper() for i in SPM_COLS] + OTHER_COLS\n",
    "\n",
    "raw = pd.read_csv(ASEC_F, usecols=cols)"
   ]
  },
  {
   "cell_type": "markdown",
   "metadata": {},
   "source": [
    "## Preprocess"
   ]
  },
  {
   "cell_type": "code",
   "execution_count": 3,
   "metadata": {},
   "outputs": [],
   "source": [
    "df = raw.copy(deep=True)"
   ]
  },
  {
   "cell_type": "code",
   "execution_count": 4,
   "metadata": {},
   "outputs": [],
   "source": [
    "df.columns = map(str.lower, df.columns)"
   ]
  },
  {
   "cell_type": "markdown",
   "metadata": {},
   "source": [
    "Add true weight by dividing by 100."
   ]
  },
  {
   "cell_type": "code",
   "execution_count": 5,
   "metadata": {},
   "outputs": [],
   "source": [
    "df['w'] = df.marsupwt / 100.\n",
    "df['spm_w'] = df.spm_weight / 100."
   ]
  },
  {
   "cell_type": "code",
   "execution_count": 6,
   "metadata": {},
   "outputs": [
    {
     "data": {
      "text/plain": [
       "15.499327626209999"
      ]
     },
     "execution_count": 6,
     "metadata": {},
     "output_type": "execute_result"
    }
   ],
   "source": [
    "mdf.weighted_sum(df, 'uc_val', 'w') / 1e9"
   ]
  },
  {
   "cell_type": "markdown",
   "metadata": {},
   "source": [
    "## Simulate"
   ]
  },
  {
   "cell_type": "code",
   "execution_count": 7,
   "metadata": {},
   "outputs": [],
   "source": [
    "UI_BONUS = 600 * 17"
   ]
  },
  {
   "cell_type": "code",
   "execution_count": 8,
   "metadata": {},
   "outputs": [],
   "source": [
    "df['ui_bonus'] = np.where(df.uc_val > 0, UI_BONUS, 0)"
   ]
  },
  {
   "cell_type": "code",
   "execution_count": 9,
   "metadata": {},
   "outputs": [
    {
     "data": {
      "text/html": [
       "<div>\n",
       "<style scoped>\n",
       "    .dataframe tbody tr th:only-of-type {\n",
       "        vertical-align: middle;\n",
       "    }\n",
       "\n",
       "    .dataframe tbody tr th {\n",
       "        vertical-align: top;\n",
       "    }\n",
       "\n",
       "    .dataframe thead th {\n",
       "        text-align: right;\n",
       "    }\n",
       "</style>\n",
       "<table border=\"1\" class=\"dataframe\">\n",
       "  <thead>\n",
       "    <tr style=\"text-align: right;\">\n",
       "      <th></th>\n",
       "      <th>ui_bonus</th>\n",
       "      <th>spm_resources</th>\n",
       "      <th>spm_povthreshold</th>\n",
       "      <th>spm_numper</th>\n",
       "      <th>spm_w</th>\n",
       "    </tr>\n",
       "    <tr>\n",
       "      <th>spm_id</th>\n",
       "      <th></th>\n",
       "      <th></th>\n",
       "      <th></th>\n",
       "      <th></th>\n",
       "      <th></th>\n",
       "    </tr>\n",
       "  </thead>\n",
       "  <tbody>\n",
       "    <tr>\n",
       "      <th>4001</th>\n",
       "      <td>0</td>\n",
       "      <td>12961</td>\n",
       "      <td>10080</td>\n",
       "      <td>1</td>\n",
       "      <td>2031.67</td>\n",
       "    </tr>\n",
       "    <tr>\n",
       "      <th>6001</th>\n",
       "      <td>0</td>\n",
       "      <td>13292</td>\n",
       "      <td>11483</td>\n",
       "      <td>1</td>\n",
       "      <td>1232.04</td>\n",
       "    </tr>\n",
       "    <tr>\n",
       "      <th>7001</th>\n",
       "      <td>0</td>\n",
       "      <td>10232</td>\n",
       "      <td>11483</td>\n",
       "      <td>1</td>\n",
       "      <td>1209.17</td>\n",
       "    </tr>\n",
       "    <tr>\n",
       "      <th>8001</th>\n",
       "      <td>0</td>\n",
       "      <td>20084</td>\n",
       "      <td>16190</td>\n",
       "      <td>2</td>\n",
       "      <td>1146.23</td>\n",
       "    </tr>\n",
       "    <tr>\n",
       "      <th>13001</th>\n",
       "      <td>0</td>\n",
       "      <td>21534</td>\n",
       "      <td>11546</td>\n",
       "      <td>1</td>\n",
       "      <td>1587.98</td>\n",
       "    </tr>\n",
       "    <tr>\n",
       "      <th>...</th>\n",
       "      <td>...</td>\n",
       "      <td>...</td>\n",
       "      <td>...</td>\n",
       "      <td>...</td>\n",
       "      <td>...</td>\n",
       "    </tr>\n",
       "    <tr>\n",
       "      <th>94629001</th>\n",
       "      <td>0</td>\n",
       "      <td>70975</td>\n",
       "      <td>17526</td>\n",
       "      <td>1</td>\n",
       "      <td>444.01</td>\n",
       "    </tr>\n",
       "    <tr>\n",
       "      <th>94630001</th>\n",
       "      <td>0</td>\n",
       "      <td>28273</td>\n",
       "      <td>20304</td>\n",
       "      <td>2</td>\n",
       "      <td>412.47</td>\n",
       "    </tr>\n",
       "    <tr>\n",
       "      <th>94631001</th>\n",
       "      <td>0</td>\n",
       "      <td>40796</td>\n",
       "      <td>46249</td>\n",
       "      <td>6</td>\n",
       "      <td>515.55</td>\n",
       "    </tr>\n",
       "    <tr>\n",
       "      <th>94632001</th>\n",
       "      <td>10200</td>\n",
       "      <td>48348</td>\n",
       "      <td>54069</td>\n",
       "      <td>6</td>\n",
       "      <td>391.67</td>\n",
       "    </tr>\n",
       "    <tr>\n",
       "      <th>94633001</th>\n",
       "      <td>0</td>\n",
       "      <td>35551</td>\n",
       "      <td>24711</td>\n",
       "      <td>2</td>\n",
       "      <td>448.29</td>\n",
       "    </tr>\n",
       "  </tbody>\n",
       "</table>\n",
       "<p>71517 rows × 5 columns</p>\n",
       "</div>"
      ],
      "text/plain": [
       "          ui_bonus  spm_resources  spm_povthreshold  spm_numper    spm_w\n",
       "spm_id                                                                  \n",
       "4001             0          12961             10080           1  2031.67\n",
       "6001             0          13292             11483           1  1232.04\n",
       "7001             0          10232             11483           1  1209.17\n",
       "8001             0          20084             16190           2  1146.23\n",
       "13001            0          21534             11546           1  1587.98\n",
       "...            ...            ...               ...         ...      ...\n",
       "94629001         0          70975             17526           1   444.01\n",
       "94630001         0          28273             20304           2   412.47\n",
       "94631001         0          40796             46249           6   515.55\n",
       "94632001     10200          48348             54069           6   391.67\n",
       "94633001         0          35551             24711           2   448.29\n",
       "\n",
       "[71517 rows x 5 columns]"
      ]
     },
     "execution_count": 9,
     "metadata": {},
     "output_type": "execute_result"
    }
   ],
   "source": [
    "spmu = df.groupby('spm_id')[['ui_bonus']].sum()\n",
    "spmu_raw = df[['spm_resources', 'spm_povthreshold', 'spm_id', 'spm_numper',\n",
    "               'spm_w']].drop_duplicates().set_index('spm_id')\n",
    "spmu = spmu.join(spmu_raw)\n",
    "spmu"
   ]
  },
  {
   "cell_type": "code",
   "execution_count": 10,
   "metadata": {},
   "outputs": [
    {
     "data": {
      "text/plain": [
       "32.08249503"
      ]
     },
     "execution_count": 10,
     "metadata": {},
     "output_type": "execute_result"
    }
   ],
   "source": [
    "budget = mdf.weighted_sum(spmu, 'ui_bonus', 'spm_w')\n",
    "budget / 1e9"
   ]
  },
  {
   "cell_type": "code",
   "execution_count": 11,
   "metadata": {},
   "outputs": [
    {
     "data": {
      "text/plain": [
       "101.28110034605258"
      ]
     },
     "execution_count": 11,
     "metadata": {},
     "output_type": "execute_result"
    }
   ],
   "source": [
    "ubi = budget / (spmu.spm_numper * spmu.spm_w).sum()\n",
    "ubi"
   ]
  },
  {
   "cell_type": "code",
   "execution_count": 12,
   "metadata": {},
   "outputs": [],
   "source": [
    "spmu['ubi'] = ubi * spmu.spm_numper"
   ]
  },
  {
   "cell_type": "code",
   "execution_count": 13,
   "metadata": {},
   "outputs": [
    {
     "data": {
      "text/plain": [
       "-3.814697265625e-06"
      ]
     },
     "execution_count": 13,
     "metadata": {},
     "output_type": "execute_result"
    }
   ],
   "source": [
    "mdf.weighted_sum(spmu, 'ubi', 'spm_w') - budget"
   ]
  },
  {
   "cell_type": "markdown",
   "metadata": {},
   "source": [
    "Add new resource columns and merge back to person level dataset."
   ]
  },
  {
   "cell_type": "code",
   "execution_count": 14,
   "metadata": {},
   "outputs": [],
   "source": [
    "spmu['spm_resources_ui'] = spmu.spm_resources + spmu.ui_bonus\n",
    "spmu['spm_resources_ubi'] = spmu.spm_resources + spmu.ubi"
   ]
  },
  {
   "cell_type": "code",
   "execution_count": 15,
   "metadata": {},
   "outputs": [],
   "source": [
    "df = df.merge(spmu[['spm_resources_ui', 'spm_resources_ubi']], on='spm_id')"
   ]
  },
  {
   "cell_type": "markdown",
   "metadata": {},
   "source": [
    "## Calculate effects"
   ]
  },
  {
   "cell_type": "code",
   "execution_count": 16,
   "metadata": {},
   "outputs": [],
   "source": [
    "df['spm_poor_ui'] = np.where(df.spm_resources_ui < df.spm_povthreshold, 1, 0)\n",
    "df['spm_poor_ubi'] = np.where(df.spm_resources_ubi < df.spm_povthreshold, 1,\n",
    "                              0)"
   ]
  },
  {
   "cell_type": "code",
   "execution_count": 17,
   "metadata": {},
   "outputs": [],
   "source": [
    "pov_rate_base = mdf.weighted_mean(df, 'spm_poor', 'w')\n",
    "pov_rate_ui = mdf.weighted_mean(df, 'spm_poor_ui', 'w')\n",
    "pov_rate_ubi = mdf.weighted_mean(df, 'spm_poor_ubi', 'w')"
   ]
  },
  {
   "cell_type": "code",
   "execution_count": 18,
   "metadata": {},
   "outputs": [
    {
     "data": {
      "text/plain": [
       "2.3919225609540185"
      ]
     },
     "execution_count": 18,
     "metadata": {},
     "output_type": "execute_result"
    }
   ],
   "source": [
    "(pov_rate_base - pov_rate_ubi) / (pov_rate_base - pov_rate_ui)"
   ]
  },
  {
   "cell_type": "markdown",
   "metadata": {},
   "source": [
    "Poverty gap."
   ]
  },
  {
   "cell_type": "code",
   "execution_count": 19,
   "metadata": {},
   "outputs": [],
   "source": [
    "def pov_gap(resource_col):\n",
    "    pov_gap = np.maximum(spmu.spm_povthreshold - spmu[resource_col], 0)\n",
    "    return (pov_gap * spmu.spm_w).sum() / 1e9"
   ]
  },
  {
   "cell_type": "code",
   "execution_count": 20,
   "metadata": {},
   "outputs": [],
   "source": [
    "pov_gap_base = pov_gap('spm_resources')\n",
    "pov_gap_ui = pov_gap('spm_resources_ui')\n",
    "pov_gap_ubi = pov_gap('spm_resources_ubi')"
   ]
  },
  {
   "cell_type": "code",
   "execution_count": 21,
   "metadata": {},
   "outputs": [
    {
     "data": {
      "text/plain": [
       "3.1953888839221003"
      ]
     },
     "execution_count": 21,
     "metadata": {},
     "output_type": "execute_result"
    }
   ],
   "source": [
    "(pov_gap_base - pov_gap_ubi) / (pov_gap_base - pov_gap_ui)"
   ]
  },
  {
   "cell_type": "markdown",
   "metadata": {},
   "source": [
    "## Poverty rate of those on UI"
   ]
  },
  {
   "cell_type": "code",
   "execution_count": 22,
   "metadata": {},
   "outputs": [],
   "source": [
    "def pov_rate(df):\n",
    "    return mdf.weighted_mean(df, 'spm_poor', 'w')"
   ]
  },
  {
   "cell_type": "code",
   "execution_count": 23,
   "metadata": {},
   "outputs": [
    {
     "data": {
      "text/plain": [
       "0.07913886915242613"
      ]
     },
     "execution_count": 23,
     "metadata": {},
     "output_type": "execute_result"
    }
   ],
   "source": [
    "pov_rate(df[df.uc_val > 0])"
   ]
  },
  {
   "cell_type": "code",
   "execution_count": 24,
   "metadata": {},
   "outputs": [
    {
     "data": {
      "text/plain": [
       "0.12781609087159032"
      ]
     },
     "execution_count": 24,
     "metadata": {},
     "output_type": "execute_result"
    }
   ],
   "source": [
    "pov_rate(df[df.uc_val == 0])"
   ]
  },
  {
   "cell_type": "markdown",
   "metadata": {},
   "source": [
    "## Where in the wage distribution are people who collect UI?\n",
    "\n",
    "[Pelosi said:](https://www.cnbc.com/2020/03/25/bernie-sanders-4-gop-senators-threaten-to-hold-up-coronavirus-stimulus-bill.html)\n",
    ">Please don’t resent our lowest paid workers in America for getting \\$600."
   ]
  },
  {
   "cell_type": "code",
   "execution_count": 25,
   "metadata": {},
   "outputs": [],
   "source": [
    "spmu['pov_ratio'] = spmu.spm_resources / spmu.spm_povthreshold"
   ]
  },
  {
   "cell_type": "code",
   "execution_count": 26,
   "metadata": {},
   "outputs": [],
   "source": [
    "spmu_ui = spmu[spmu.ui_bonus > 0].copy(deep=True)\n",
    "spmu_noui = spmu[spmu.ui_bonus == 0].copy(deep=True)"
   ]
  },
  {
   "cell_type": "code",
   "execution_count": 27,
   "metadata": {},
   "outputs": [
    {
     "data": {
      "text/plain": [
       "2.349907929357153"
      ]
     },
     "execution_count": 27,
     "metadata": {},
     "output_type": "execute_result"
    }
   ],
   "source": [
    "mdf.weighted_median(spmu, 'pov_ratio', 'spm_w')"
   ]
  },
  {
   "cell_type": "code",
   "execution_count": 28,
   "metadata": {},
   "outputs": [
    {
     "data": {
      "text/plain": [
       "2.421105938846996"
      ]
     },
     "execution_count": 28,
     "metadata": {},
     "output_type": "execute_result"
    }
   ],
   "source": [
    "mdf.weighted_median(spmu_ui, 'pov_ratio', 'spm_w')"
   ]
  },
  {
   "cell_type": "code",
   "execution_count": 29,
   "metadata": {},
   "outputs": [
    {
     "data": {
      "text/plain": [
       "2.348263751046827"
      ]
     },
     "execution_count": 29,
     "metadata": {},
     "output_type": "execute_result"
    }
   ],
   "source": [
    "mdf.weighted_median(spmu_noui, 'pov_ratio', 'spm_w')"
   ]
  }
 ],
 "metadata": {
  "kernelspec": {
   "display_name": "Python 3",
   "language": "python",
   "name": "python3"
  },
  "language_info": {
   "codemirror_mode": {
    "name": "ipython",
    "version": 3
   },
   "file_extension": ".py",
   "mimetype": "text/x-python",
   "name": "python",
   "nbconvert_exporter": "python",
   "pygments_lexer": "ipython3",
   "version": "3.7.5"
  }
 },
 "nbformat": 4,
 "nbformat_minor": 4
}
